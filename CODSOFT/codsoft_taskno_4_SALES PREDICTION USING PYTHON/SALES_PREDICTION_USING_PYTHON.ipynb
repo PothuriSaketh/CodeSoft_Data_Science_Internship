{
  "nbformat": 4,
  "nbformat_minor": 0,
  "metadata": {
    "colab": {
      "private_outputs": true,
      "provenance": []
    },
    "kernelspec": {
      "name": "python3",
      "display_name": "Python 3"
    },
    "language_info": {
      "name": "python"
    }
  },
  "cells": [
    {
      "cell_type": "code",
      "execution_count": null,
      "metadata": {
        "id": "ozc3RnIQuXDY"
      },
      "outputs": [],
      "source": [
        "import pandas as pd\n",
        "import matplotlib.pyplot as plt\n",
        "import seaborn as sns\n",
        "from sklearn.model_selection import train_test_split\n",
        "from sklearn.linear_model import LinearRegression\n",
        "from sklearn.metrics import mean_absolute_error, mean_squared_error, r2_score"
      ]
    },
    {
      "cell_type": "markdown",
      "source": [
        "# Load the dataset"
      ],
      "metadata": {
        "id": "K6l_hmkS2p4Q"
      }
    },
    {
      "cell_type": "code",
      "source": [
        "df = pd.read_csv(\"car_purchasing.csv\", encoding='ISO-8859-1')"
      ],
      "metadata": {
        "id": "rlzr0iRe2OYA"
      },
      "execution_count": null,
      "outputs": []
    },
    {
      "cell_type": "code",
      "source": [
        "df"
      ],
      "metadata": {
        "id": "nacGYR5x4D82"
      },
      "execution_count": null,
      "outputs": []
    },
    {
      "cell_type": "markdown",
      "source": [
        "# EDA"
      ],
      "metadata": {
        "id": "ykCbLexW2scH"
      }
    },
    {
      "cell_type": "markdown",
      "source": [
        "Display the first few rows"
      ],
      "metadata": {
        "id": "cJvR-IHC2y8B"
      }
    },
    {
      "cell_type": "code",
      "source": [
        "print(df.head())"
      ],
      "metadata": {
        "id": "0HN-XYnq2Odv"
      },
      "execution_count": null,
      "outputs": []
    },
    {
      "cell_type": "markdown",
      "source": [
        "Check for missing values"
      ],
      "metadata": {
        "id": "qtflNIxU2186"
      }
    },
    {
      "cell_type": "code",
      "source": [
        "print(df.isnull().sum())"
      ],
      "metadata": {
        "id": "-bPxpwOC23uB"
      },
      "execution_count": null,
      "outputs": []
    },
    {
      "cell_type": "code",
      "source": [
        "print(df.isnull().sum().sum())"
      ],
      "metadata": {
        "id": "DaXjuJlD4HoC"
      },
      "execution_count": null,
      "outputs": []
    },
    {
      "cell_type": "markdown",
      "source": [
        "\n",
        "Summary statistics"
      ],
      "metadata": {
        "id": "DGFcjaSQ22Ku"
      }
    },
    {
      "cell_type": "code",
      "source": [
        "print(df.describe())"
      ],
      "metadata": {
        "id": "Vt1KV0RK28jy"
      },
      "execution_count": null,
      "outputs": []
    },
    {
      "cell_type": "markdown",
      "source": [
        "# Data visualization"
      ],
      "metadata": {
        "id": "wUYSBRsF3A_X"
      }
    },
    {
      "cell_type": "markdown",
      "source": [
        "Correlation heatmap"
      ],
      "metadata": {
        "id": "drqdjH9t3DnE"
      }
    },
    {
      "cell_type": "code",
      "source": [
        "corr_matrix = df.corr()\n",
        "sns.heatmap(corr_matrix, annot=True, cmap=\"coolwarm\")\n",
        "plt.show()\n",
        "\n"
      ],
      "metadata": {
        "id": "GFuOJZh92Ole"
      },
      "execution_count": null,
      "outputs": []
    },
    {
      "cell_type": "markdown",
      "source": [
        "Histograms for numeric features\n",
        "\n"
      ],
      "metadata": {
        "id": "MoabSQoW3C5g"
      }
    },
    {
      "cell_type": "code",
      "source": [
        "numeric_features = [\"age\", \"annual Salary\", \"credit card debt\", \"net worth\"]\n",
        "for feature in numeric_features:\n",
        "    plt.figure(figsize=(8, 5))\n",
        "    sns.histplot(df[feature], bins=20, kde=True)\n",
        "    plt.title(f\"{feature} Distribution\")\n",
        "    plt.xlabel(feature)\n",
        "    plt.ylabel(\"Frequency\")\n",
        "    plt.show()\n"
      ],
      "metadata": {
        "id": "TUme04Px2Otl"
      },
      "execution_count": null,
      "outputs": []
    },
    {
      "cell_type": "markdown",
      "source": [
        "Box plots for numeric features"
      ],
      "metadata": {
        "id": "oAG197-93M5p"
      }
    },
    {
      "cell_type": "code",
      "source": [
        "\n",
        "for feature in numeric_features:\n",
        "    plt.figure(figsize=(8, 5))\n",
        "    sns.boxplot(x=feature, data=df)\n",
        "    plt.title(f\"{feature} Outliers\")\n",
        "    plt.xlabel(feature)\n",
        "    plt.show()\n"
      ],
      "metadata": {
        "id": "8ZuHrygl0JWj"
      },
      "execution_count": null,
      "outputs": []
    },
    {
      "cell_type": "markdown",
      "source": [
        "Count plots for categorical features"
      ],
      "metadata": {
        "id": "s40_0CPA3PFe"
      }
    },
    {
      "cell_type": "code",
      "source": [
        "categorical_features = [\"country\", \"gender\"]\n",
        "for feature in categorical_features:\n",
        "    plt.figure(figsize=(8, 5))\n",
        "    sns.countplot(x=feature, data=df)\n",
        "    plt.title(f\"{feature} Distribution\")\n",
        "    plt.xlabel(feature)\n",
        "    plt.ylabel(\"Count\")\n",
        "    plt.show()\n"
      ],
      "metadata": {
        "id": "YY4vKjjH0MMV"
      },
      "execution_count": null,
      "outputs": []
    },
    {
      "cell_type": "markdown",
      "source": [
        "Scatter plots for numeric features vs. car purchase amount"
      ],
      "metadata": {
        "id": "w81z3O1_3Tom"
      }
    },
    {
      "cell_type": "code",
      "source": [
        "for feature in numeric_features:\n",
        "    plt.figure(figsize=(8, 5))\n",
        "    sns.scatterplot(x=feature, y=\"car purchase amount\", data=df)\n",
        "    plt.title(f\"{feature} vs. Car Purchase Amount\")\n",
        "    plt.xlabel(feature)\n",
        "    plt.ylabel(\"Car Purchase Amount\")\n",
        "    plt.show()\n"
      ],
      "metadata": {
        "id": "OyIkX3no0MTY"
      },
      "execution_count": null,
      "outputs": []
    },
    {
      "cell_type": "markdown",
      "source": [
        "Model Data"
      ],
      "metadata": {
        "id": "JzbMu52m3XYc"
      }
    },
    {
      "cell_type": "code",
      "source": [
        "X = df[[\"age\", \"annual Salary\", \"credit card debt\", \"net worth\"]]"
      ],
      "metadata": {
        "id": "XjM2y3cW2eZV"
      },
      "execution_count": null,
      "outputs": []
    },
    {
      "cell_type": "code",
      "source": [
        "X"
      ],
      "metadata": {
        "id": "Fhdm57_x30rg"
      },
      "execution_count": null,
      "outputs": []
    },
    {
      "cell_type": "code",
      "source": [
        "y = df[\"car purchase amount\"]"
      ],
      "metadata": {
        "id": "A4tVr0WM3anw"
      },
      "execution_count": null,
      "outputs": []
    },
    {
      "cell_type": "code",
      "source": [
        "y"
      ],
      "metadata": {
        "id": "vNzRVLHv31sC"
      },
      "execution_count": null,
      "outputs": []
    },
    {
      "cell_type": "markdown",
      "source": [
        "Split the data into training and testing sets"
      ],
      "metadata": {
        "id": "gZ5YalTo3cbY"
      }
    },
    {
      "cell_type": "code",
      "source": [
        "X_train, X_test, y_train, y_test = train_test_split(X, y, test_size=0.2, random_state=42)"
      ],
      "metadata": {
        "id": "S6gldvEi3d8h"
      },
      "execution_count": null,
      "outputs": []
    },
    {
      "cell_type": "markdown",
      "source": [
        "# Model Building and Training"
      ],
      "metadata": {
        "id": "DmrHlZgX3hG6"
      }
    },
    {
      "cell_type": "code",
      "source": [
        "model = LinearRegression()"
      ],
      "metadata": {
        "id": "qXiIL-rc3jOz"
      },
      "execution_count": null,
      "outputs": []
    },
    {
      "cell_type": "code",
      "source": [
        "model.fit(X_train, y_train)"
      ],
      "metadata": {
        "id": "puIOcnZe3lxj"
      },
      "execution_count": null,
      "outputs": []
    },
    {
      "cell_type": "markdown",
      "source": [
        "# Model Evaluation"
      ],
      "metadata": {
        "id": "Aw7-fu0G3pGE"
      }
    },
    {
      "cell_type": "code",
      "source": [
        "y_pred = model.predict(X_test)\n",
        "\n",
        "mae = mean_absolute_error(y_test, y_pred)\n",
        "mse = mean_squared_error(y_test, y_pred)\n",
        "r2 = r2_score(y_test, y_pred)\n",
        "\n",
        "print(\"Mean Absolute Error:\", mae)\n",
        "print(\"Mean Squared Error:\", mse)\n",
        "print(\"R-squared:\", r2)"
      ],
      "metadata": {
        "id": "akRaUOCy3poc"
      },
      "execution_count": null,
      "outputs": []
    },
    {
      "cell_type": "markdown",
      "source": [
        "# Making Predictions"
      ],
      "metadata": {
        "id": "rq0Vytuc3tsU"
      }
    },
    {
      "cell_type": "code",
      "source": [
        "new_customer_data = [[35, 80000, 2000, 90000]]  # Age, Annual Salary, Credit Card Debt, Net Worth\n",
        "predicted_purchase_amount = model.predict(new_customer_data)\n",
        "print(\"Predicted Car Purchase Amount:\", predicted_purchase_amount)"
      ],
      "metadata": {
        "id": "bQ7UxXix3wJW"
      },
      "execution_count": null,
      "outputs": []
    }
  ]
}