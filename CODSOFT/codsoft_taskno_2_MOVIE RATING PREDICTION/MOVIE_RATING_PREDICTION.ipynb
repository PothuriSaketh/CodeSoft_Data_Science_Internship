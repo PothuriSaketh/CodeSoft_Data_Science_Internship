{
  "nbformat": 4,
  "nbformat_minor": 0,
  "metadata": {
    "colab": {
      "private_outputs": true,
      "provenance": []
    },
    "kernelspec": {
      "name": "python3",
      "display_name": "Python 3"
    },
    "language_info": {
      "name": "python"
    }
  },
  "cells": [
    {
      "cell_type": "code",
      "source": [
        "import pandas as pd\n",
        "import re\n",
        "import numpy as np\n",
        "import matplotlib.pyplot as plt\n",
        "import seaborn as sns\n",
        "from sklearn.model_selection import train_test_split\n",
        "from sklearn.preprocessing import LabelEncoder\n",
        "from sklearn.ensemble import RandomForestRegressor\n",
        "from sklearn.model_selection import cross_val_score\n",
        "from sklearn.metrics import mean_absolute_error, mean_squared_error, r2_score"
      ],
      "metadata": {
        "id": "XoEjIMcxeZCg"
      },
      "execution_count": null,
      "outputs": []
    },
    {
      "cell_type": "markdown",
      "source": [
        "# Load the dataset"
      ],
      "metadata": {
        "id": "6-5jUilIj9Wq"
      }
    },
    {
      "cell_type": "code",
      "source": [
        "data = pd.read_csv('/content/IMDb Movies India.csv', encoding='ISO-8859-1')"
      ],
      "metadata": {
        "id": "Sbswnutwee0z"
      },
      "execution_count": null,
      "outputs": []
    },
    {
      "cell_type": "code",
      "source": [
        "data"
      ],
      "metadata": {
        "id": "zIjE0ANIeheU"
      },
      "execution_count": null,
      "outputs": []
    },
    {
      "cell_type": "code",
      "source": [
        "data.describe()"
      ],
      "metadata": {
        "id": "UYrNuzJieokd"
      },
      "execution_count": null,
      "outputs": []
    },
    {
      "cell_type": "code",
      "source": [
        "data.dtypes"
      ],
      "metadata": {
        "id": "ahMk6UAteuNt"
      },
      "execution_count": null,
      "outputs": []
    },
    {
      "cell_type": "code",
      "source": [
        "data.isnull().sum()"
      ],
      "metadata": {
        "id": "qYLxUkjieyvy"
      },
      "execution_count": null,
      "outputs": []
    },
    {
      "cell_type": "code",
      "source": [
        "data.isnull().sum().sum()"
      ],
      "metadata": {
        "id": "sRWZM_DEe2fX"
      },
      "execution_count": null,
      "outputs": []
    },
    {
      "cell_type": "code",
      "source": [
        "data.shape"
      ],
      "metadata": {
        "id": "91W6OEUve7JB"
      },
      "execution_count": null,
      "outputs": []
    },
    {
      "cell_type": "code",
      "source": [
        "#Data Cleaning\n",
        "# Extract only the year from the \"Year\" column\n",
        "data['Year'] = data['Year'].apply(lambda x: re.search(r'\\d{4}', str(x)).group(0) if re.search(r'\\d{4}', str(x)) else 0)\n",
        "\n",
        "# Extract the numeric value from the \"Duration\" column\n",
        "data['Duration'] = data['Duration'].apply(lambda x: int(re.search(r'\\d+', str(x)).group(0)) if re.search(r'\\d+', str(x)) else 0)\n",
        "\n",
        "# Remove commas and convert \"Votes\" to numeric\n",
        "data['Votes'] = data['Votes'].str.replace(',', '', regex=True)\n",
        "data['Votes'] = pd.to_numeric(data['Votes'], errors='coerce').fillna(0).astype(int)\n",
        "\n",
        "# Encode categorical features\n",
        "label_encoders = {}\n",
        "categorical_features = [\"Genre\", \"Director\", \"Actor 1\", \"Actor 2\", \"Actor 3\"]\n",
        "for feature in categorical_features:\n",
        "    data[feature] = data[feature].astype(str)  # Convert all values to strings\n",
        "    label_encoders[feature] = LabelEncoder()\n",
        "    data[feature] = label_encoders[feature].fit_transform(data[feature])\n",
        "\n",
        "# Drop rows with missing \"Rating\" values\n",
        "data.dropna(subset=['Rating'], inplace=True)\n"
      ],
      "metadata": {
        "id": "N_SmMoa1e9un"
      },
      "execution_count": null,
      "outputs": []
    },
    {
      "cell_type": "markdown",
      "source": [
        "#Model"
      ],
      "metadata": {
        "id": "Zjja3TgdkG2d"
      }
    },
    {
      "cell_type": "markdown",
      "source": [
        "Split the data into features and target"
      ],
      "metadata": {
        "id": "7tlbAAJBnKaI"
      }
    },
    {
      "cell_type": "code",
      "source": [
        "X = data.drop(columns=['Rating', 'Name'])\n",
        "y = data['Rating']"
      ],
      "metadata": {
        "id": "SxDMDreGkKli"
      },
      "execution_count": null,
      "outputs": []
    },
    {
      "cell_type": "code",
      "source": [
        "X"
      ],
      "metadata": {
        "id": "32d_HNUcnOAk"
      },
      "execution_count": null,
      "outputs": []
    },
    {
      "cell_type": "code",
      "source": [
        "y"
      ],
      "metadata": {
        "id": "im43HI0BnOzm"
      },
      "execution_count": null,
      "outputs": []
    },
    {
      "cell_type": "markdown",
      "source": [
        "Split the data into training and testing sets"
      ],
      "metadata": {
        "id": "LHWg6PNQnSHD"
      }
    },
    {
      "cell_type": "code",
      "source": [
        "X_train, X_test, y_train, y_test = train_test_split(X, y, test_size=0.2, random_state=42)\n"
      ],
      "metadata": {
        "id": "h507swiMkSSg"
      },
      "execution_count": null,
      "outputs": []
    },
    {
      "cell_type": "markdown",
      "source": [
        "Choose a regression model"
      ],
      "metadata": {
        "id": "ly2sLUq8nU_a"
      }
    },
    {
      "cell_type": "code",
      "source": [
        "model = RandomForestRegressor(n_estimators=100, random_state=42)"
      ],
      "metadata": {
        "id": "UxPYJAfPnVft"
      },
      "execution_count": null,
      "outputs": []
    },
    {
      "cell_type": "markdown",
      "source": [
        "# Train the model"
      ],
      "metadata": {
        "id": "GbXUqVXgnfI6"
      }
    },
    {
      "cell_type": "code",
      "source": [
        "model.fit(X_train, y_train)"
      ],
      "metadata": {
        "id": "NaoQxs2-ncV-"
      },
      "execution_count": null,
      "outputs": []
    },
    {
      "cell_type": "markdown",
      "source": [
        "Make predictions"
      ],
      "metadata": {
        "id": "yo3eHFxhnk9S"
      }
    },
    {
      "cell_type": "code",
      "source": [
        "y_pred = model.predict(X_test)"
      ],
      "metadata": {
        "id": "aAkLBvnuncYC"
      },
      "execution_count": null,
      "outputs": []
    },
    {
      "cell_type": "markdown",
      "source": [
        "# Visualizations"
      ],
      "metadata": {
        "id": "nwzbZHq5kUI9"
      }
    },
    {
      "cell_type": "markdown",
      "source": [
        "Correlation Analysis"
      ],
      "metadata": {
        "id": "gmtwzU2MmRVk"
      }
    },
    {
      "cell_type": "code",
      "source": [
        "correlation_matrix = data.corr()\n",
        "print(correlation_matrix)\n"
      ],
      "metadata": {
        "id": "dR9gg236jkQq"
      },
      "execution_count": null,
      "outputs": []
    },
    {
      "cell_type": "code",
      "source": [
        "plt.figure(figsize=(10, 8))\n",
        "sns.heatmap(correlation_matrix, annot=True, cmap='coolwarm', fmt=\".2f\", linewidths=0.5)\n",
        "plt.title('Correlation Heatmap')\n",
        "plt.show()"
      ],
      "metadata": {
        "id": "-EMb0xN3nyOf"
      },
      "execution_count": null,
      "outputs": []
    },
    {
      "cell_type": "markdown",
      "source": [
        "Categorical Feature Analysis"
      ],
      "metadata": {
        "id": "9jBp9avLmWvG"
      }
    },
    {
      "cell_type": "code",
      "source": [
        "genre_counts = data['Genre'].value_counts()\n",
        "print(genre_counts)\n"
      ],
      "metadata": {
        "id": "wAYy4g-yjmb6"
      },
      "execution_count": null,
      "outputs": []
    },
    {
      "cell_type": "markdown",
      "source": [
        "Feature Importance"
      ],
      "metadata": {
        "id": "lAaiYDL_mYGK"
      }
    },
    {
      "cell_type": "code",
      "source": [
        "feature_importance = model.feature_importances_\n",
        "feature_names = X.columns\n",
        "feature_importance_df = pd.DataFrame({'Feature': feature_names, 'Importance': feature_importance})\n",
        "feature_importance_df = feature_importance_df.sort_values(by='Importance', ascending=False)\n",
        "print(feature_importance_df)\n"
      ],
      "metadata": {
        "id": "1YJ0unLfjpIq"
      },
      "execution_count": null,
      "outputs": []
    },
    {
      "cell_type": "markdown",
      "source": [
        "Residual Analysis"
      ],
      "metadata": {
        "id": "4Yjk8tkFmayw"
      }
    },
    {
      "cell_type": "code",
      "source": [
        "residuals = y_test - y_pred\n",
        "plt.scatter(y_pred, residuals)\n",
        "plt.xlabel('Predicted Ratings')\n",
        "plt.ylabel('Residuals')\n",
        "plt.title('Residual Plot')\n",
        "plt.axhline(0, color='red', linestyle='--')\n",
        "plt.show()\n"
      ],
      "metadata": {
        "id": "XRdfmxl3jr-Z"
      },
      "execution_count": null,
      "outputs": []
    },
    {
      "cell_type": "markdown",
      "source": [
        "Annual Movie Release Counts Over Time (Countplot for years)"
      ],
      "metadata": {
        "id": "66kgx8CplWGh"
      }
    },
    {
      "cell_type": "code",
      "source": [
        "sns.countplot(data=data, x='Year')\n",
        "plt.show()"
      ],
      "metadata": {
        "id": "u0amuiI8fH0_"
      },
      "execution_count": null,
      "outputs": []
    },
    {
      "cell_type": "markdown",
      "source": [
        "Average Movie Duration Trends Over the Years"
      ],
      "metadata": {
        "id": "KBUOmlWYlajK"
      }
    },
    {
      "cell_type": "code",
      "source": [
        "sns.lineplot(x=data['Year'], y=data['Duration'])\n",
        "plt.show()"
      ],
      "metadata": {
        "id": "sQmBLI8ClfLQ"
      },
      "execution_count": null,
      "outputs": []
    },
    {
      "cell_type": "markdown",
      "source": [
        "Box Plot of Movie Ratings"
      ],
      "metadata": {
        "id": "O_QycaBSmD6f"
      }
    },
    {
      "cell_type": "code",
      "source": [
        "plt.title('Box Plot of Movie Ratings')\n",
        "sns.boxplot(x=data['Rating'])\n"
      ],
      "metadata": {
        "id": "K4ig1FvkfSAC"
      },
      "execution_count": null,
      "outputs": []
    },
    {
      "cell_type": "markdown",
      "source": [
        "Feature Distributions by Rating"
      ],
      "metadata": {
        "id": "oFUR0JgfmfXO"
      }
    },
    {
      "cell_type": "code",
      "source": [
        "# For example, compare the duration of movies for different rating categories\n",
        "plt.scatter(data['Rating'], data['Duration'])\n",
        "plt.xlabel('Rating')\n",
        "plt.ylabel('Duration')\n",
        "plt.title('Duration vs. Rating')\n",
        "plt.show()\n"
      ],
      "metadata": {
        "id": "uxvKo460juek"
      },
      "execution_count": null,
      "outputs": []
    },
    {
      "cell_type": "markdown",
      "source": [
        "Total Votes per Rating"
      ],
      "metadata": {
        "id": "UoO2o6aemAxr"
      }
    },
    {
      "cell_type": "code",
      "source": [
        "plt.title('Total Votes per Rating')\n",
        "sns.barplot(x=data['Rating'], y=data['Votes'])\n",
        "plt.show()"
      ],
      "metadata": {
        "id": "Im8amvbYfgcB"
      },
      "execution_count": null,
      "outputs": []
    },
    {
      "cell_type": "markdown",
      "source": [
        "Top 20 Actors with Total Number of Movies"
      ],
      "metadata": {
        "id": "eYDYj7lrlq4a"
      }
    },
    {
      "cell_type": "code",
      "source": [
        "actor_counts = data['Actor 1'].append(data['Actor 2']).append(data['Actor 3'])\n",
        "top_actors = actor_counts.value_counts()[:20]\n",
        "sns.barplot(x=top_actors.values, y=top_actors.index)\n",
        "plt.title('Top 20 Actors with Total Number of Movies')\n",
        "plt.show()"
      ],
      "metadata": {
        "id": "-dSBAOwUhMLW"
      },
      "execution_count": null,
      "outputs": []
    },
    {
      "cell_type": "markdown",
      "source": [
        "Top 20 Directors by Frequency of Movies"
      ],
      "metadata": {
        "id": "-WHQWDHmlyET"
      }
    },
    {
      "cell_type": "code",
      "source": [
        "\n",
        "top_directors = data['Director'].value_counts()[:20]\n",
        "plt.title('Top 20 Directors by Frequency of Movies')\n",
        "sns.barplot(x=top_directors.values, y=top_directors.index)"
      ],
      "metadata": {
        "id": "BXMSnGungm6c"
      },
      "execution_count": null,
      "outputs": []
    },
    {
      "cell_type": "markdown",
      "source": [
        "Plot the distribution of another numerical feature (e.g., 'Votes')"
      ],
      "metadata": {
        "id": "M0qSKC3HmMeK"
      }
    },
    {
      "cell_type": "markdown",
      "source": [
        "Plot the distribution of the target variable"
      ],
      "metadata": {
        "id": "BYIPFaXemIF8"
      }
    },
    {
      "cell_type": "code",
      "source": [
        "plt.hist(data['Rating'], bins=20)\n",
        "plt.xlabel('Rating')\n",
        "plt.ylabel('Frequency')\n",
        "plt.title('Distribution of Ratings')\n",
        "plt.show()"
      ],
      "metadata": {
        "id": "LGN7dBhQmKLj"
      },
      "execution_count": null,
      "outputs": []
    },
    {
      "cell_type": "markdown",
      "source": [
        "#Model Validation"
      ],
      "metadata": {
        "id": "ID18JsSHmncp"
      }
    },
    {
      "cell_type": "code",
      "source": [
        "plt.figure(figsize=(8, 6))\n",
        "plt.scatter(y_test, y_pred, alpha=0.5)\n",
        "plt.xlabel('Actual Ratings')\n",
        "plt.ylabel('Predicted Ratings')\n",
        "plt.title('Actual vs. Predicted Ratings')\n",
        "plt.grid(True)\n",
        "plt.plot([min(y_test), max(y_test)], [min(y_test), max(y_test)], color='red', linestyle='--', linewidth=2)\n",
        "plt.show()\n"
      ],
      "metadata": {
        "id": "xCiMx4DupFw-"
      },
      "execution_count": null,
      "outputs": []
    },
    {
      "cell_type": "code",
      "source": [
        "scores = cross_val_score(model, X, y, cv=5, scoring='neg_mean_squared_error')\n",
        "rmse_scores = np.sqrt(-scores)\n",
        "mae = mean_absolute_error(y_test, y_pred)\n",
        "mse = mean_squared_error(y_test, y_pred)\n",
        "r2 = r2_score(y_test, y_pred)\n",
        "print(f'Cross-Validation RMSE: {rmse_scores.mean()}')\n",
        "print(f\"Mean Absolute Error: {mae}\")\n",
        "print(f\"Mean Squared Error: {mse}\")\n",
        "print(f\"R-squared: {r2}\")\n",
        "\n"
      ],
      "metadata": {
        "id": "1fxOkYl3jwyf"
      },
      "execution_count": null,
      "outputs": []
    }
  ]
}